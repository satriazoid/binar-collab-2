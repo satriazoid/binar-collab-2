{
 "cells": [
  {
   "cell_type": "code",
   "execution_count": null,
   "id": "61c0a4f4-34d8-4602-a6e3-6d7f53e322ab",
   "metadata": {},
   "outputs": [],
   "source": [
    "import sqlite3\n",
    "import pandas as pd\n",
    "import re\n",
    "from collections import Counter\n",
    "import matplotlib.pyplot as plt\n",
    "import seaborn as sns\n",
    "\n",
    "\n",
    "def clean_text(text):\n",
    "    cleaned_text = re.sub(r'[^A-Za-z0-9 ]+', '', text)\n",
    "    return cleaned_text\n",
    "\n",
    "\n",
    "def fetch_data():\n",
    "    conn = sqlite3.connect('data.db')\n",
    "    df = pd.read_sql_query(\"SELECT * FROM texts\", conn)\n",
    "    conn.close()\n",
    "    return df\n",
    "\n",
    "\n",
    "def clean_texts(df):\n",
    "    df['cleaned_text'] = df['text'].apply(clean_text)\n",
    "    return df\n",
    "\n",
    "\n",
    "def word_frequency(texts):\n",
    "    words = ' '.join(texts).split()\n",
    "    word_counts = Counter(words)\n",
    "    return word_counts\n",
    "\n",
    "\n",
    "def plot_word_frequency(word_counts):\n",
    "    word_df = pd.DataFrame(word_counts.items(), columns=['word', 'frequency'])\n",
    "    word_df = word_df.sort_values(by='frequency', ascending=False).head(20) \n",
    "\n",
    "    plt.figure(figsize=(12, 8))\n",
    "    sns.barplot(data=word_df, x='frequency', y='word')\n",
    "    plt.title('Top 20 Words by Frequency')\n",
    "    plt.xlabel('Frequency')\n",
    "    plt.ylabel('Word')\n",
    "    plt.show()\n",
    "\n",
    "# Langkah-langkah analisis\n",
    "df = fetch_data()\n",
    "df = clean_texts(df)\n",
    "word_counts = word_frequency(df['cleaned_text'])\n",
    "plot_word_frequency(word_counts)"
   ]
  },
  {
   "cell_type": "code",
   "execution_count": null,
   "id": "de4bd689-aefe-42c1-b08e-3b0e2d0213f1",
   "metadata": {},
   "outputs": [],
   "source": []
  }
 ],
 "metadata": {
  "kernelspec": {
   "display_name": "Python 3 (ipykernel)",
   "language": "python",
   "name": "python3"
  },
  "language_info": {
   "codemirror_mode": {
    "name": "ipython",
    "version": 3
   },
   "file_extension": ".py",
   "mimetype": "text/x-python",
   "name": "python",
   "nbconvert_exporter": "python",
   "pygments_lexer": "ipython3",
   "version": "3.8.8"
  }
 },
 "nbformat": 4,
 "nbformat_minor": 5
}
